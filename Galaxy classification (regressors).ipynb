{
 "cells": [
  {
   "cell_type": "code",
   "execution_count": 8,
   "metadata": {
    "collapsed": true
   },
   "outputs": [],
   "source": [
    "#Headers and libraries that we're gonna use\n",
    "\n",
    "%matplotlib inline\n",
    "\n",
    "#print(__doc__)\n",
    "\n",
    "import numpy as np\n",
    "import matplotlib.pyplot as plt\n",
    "import scipy.misc as scp_misc\n",
    "\n",
    "#Regressor algorithms\n",
    "from sklearn.neighbors import KNeighborsRegressor\n",
    "from sklearn.tree import DecisionTreeRegressor\n",
    "from sklearn.ensemble import RandomForestRegressor\n",
    "from sklearn.model_selection import train_test_split"
   ]
  },
  {
   "cell_type": "code",
   "execution_count": 9,
   "metadata": {
    "collapsed": true
   },
   "outputs": [],
   "source": [
    "import csv\n",
    "photos = []\n",
    "labels = []\n",
    "\n",
    "with open('training_solutions_rev1.csv', 'r') as csvfile:\n",
    "    reader = csv.reader(csvfile)\n",
    "    \n",
    "    i = 0\n",
    "    restrictor = 1000\n",
    "    for row in reader:\n",
    "        if i >1:\n",
    "            \n",
    "            saveimage = False\n",
    "            \n",
    "            if float(row[1])+float(row[2])+float(row[3])==1.0:\n",
    "                if (restrictor > 0):\n",
    "                    labels.append([row[1], row[2], row[3]])\n",
    "                    saveimage = True\n",
    "                    restrictor -= 1\n",
    "            elif float(row[1])+float(row[2])+float(row[3])==100:\n",
    "                if (restrictor > 0):\n",
    "                    labels.append([float(row[1])/100., float(row[2])/100., float(row[3])/100.])\n",
    "                    saveimage = True\n",
    "                    restrictor -= 1\n",
    "                \n",
    "            if saveimage:\n",
    "                img = scp_misc.imread(\"images_training_rev1/\"+row[0]+\".jpg\", mode=\"L\")\n",
    "                img = scp_misc.imresize(img, 25)\n",
    "                photos.append(img)\n",
    "            \n",
    "        i += 1"
   ]
  },
  {
   "cell_type": "code",
   "execution_count": 10,
   "metadata": {
    "collapsed": false
   },
   "outputs": [
    {
     "name": "stdout",
     "output_type": "stream",
     "text": [
      "1000\n",
      "1000\n"
     ]
    }
   ],
   "source": [
    "print(len(labels))\n",
    "print(len(photos))"
   ]
  },
  {
   "cell_type": "code",
   "execution_count": 11,
   "metadata": {
    "collapsed": true
   },
   "outputs": [],
   "source": [
    "a = 0\n",
    "while (a < len(photos)):\n",
    "    photos[a] = np.reshape(photos[a], -1)\n",
    "    a += 1"
   ]
  },
  {
   "cell_type": "markdown",
   "metadata": {},
   "source": [
    "Now let's divide the samples into training and test samples. *Comment*: maybe we should massage the y sample.  "
   ]
  },
  {
   "cell_type": "code",
   "execution_count": 12,
   "metadata": {
    "collapsed": true
   },
   "outputs": [],
   "source": [
    "def load_data():\n",
    "    X = photos\n",
    "    y = labels\n",
    "    X_train, X_test, y_train, y_test = train_test_split(X, y)"
   ]
  },
  {
   "cell_type": "code",
   "execution_count": 13,
   "metadata": {
    "collapsed": false
   },
   "outputs": [
    {
     "ename": "TypeError",
     "evalue": "cannot perform reduce with flexible type",
     "output_type": "error",
     "traceback": [
      "\u001b[0;31m---------------------------------------------------------------------------\u001b[0m",
      "\u001b[0;31mTypeError\u001b[0m                                 Traceback (most recent call last)",
      "\u001b[0;32m<ipython-input-13-b5d208793829>\u001b[0m in \u001b[0;36m<module>\u001b[0;34m()\u001b[0m\n\u001b[1;32m      1\u001b[0m \u001b[0mestimator\u001b[0m \u001b[0;34m=\u001b[0m \u001b[0mKNeighborsRegressor\u001b[0m\u001b[0;34m(\u001b[0m\u001b[0;34m)\u001b[0m\u001b[0;34m\u001b[0m\u001b[0m\n\u001b[1;32m      2\u001b[0m \u001b[0mestimator\u001b[0m\u001b[0;34m.\u001b[0m\u001b[0mfit\u001b[0m\u001b[0;34m(\u001b[0m\u001b[0mX_train\u001b[0m\u001b[0;34m,\u001b[0m \u001b[0my_train\u001b[0m\u001b[0;34m)\u001b[0m\u001b[0;34m\u001b[0m\u001b[0m\n\u001b[0;32m----> 3\u001b[0;31m \u001b[0my_test_predict\u001b[0m \u001b[0;34m=\u001b[0m \u001b[0mestimator\u001b[0m\u001b[0;34m.\u001b[0m\u001b[0mpredict\u001b[0m\u001b[0;34m(\u001b[0m\u001b[0mX_test\u001b[0m\u001b[0;34m)\u001b[0m\u001b[0;34m\u001b[0m\u001b[0m\n\u001b[0m",
      "\u001b[0;32m/home/ramon/anaconda2/lib/python2.7/site-packages/sklearn/neighbors/regression.pyc\u001b[0m in \u001b[0;36mpredict\u001b[0;34m(self, X)\u001b[0m\n\u001b[1;32m    151\u001b[0m \u001b[0;34m\u001b[0m\u001b[0m\n\u001b[1;32m    152\u001b[0m         \u001b[0;32mif\u001b[0m \u001b[0mweights\u001b[0m \u001b[0;32mis\u001b[0m \u001b[0mNone\u001b[0m\u001b[0;34m:\u001b[0m\u001b[0;34m\u001b[0m\u001b[0m\n\u001b[0;32m--> 153\u001b[0;31m             \u001b[0my_pred\u001b[0m \u001b[0;34m=\u001b[0m \u001b[0mnp\u001b[0m\u001b[0;34m.\u001b[0m\u001b[0mmean\u001b[0m\u001b[0;34m(\u001b[0m\u001b[0m_y\u001b[0m\u001b[0;34m[\u001b[0m\u001b[0mneigh_ind\u001b[0m\u001b[0;34m]\u001b[0m\u001b[0;34m,\u001b[0m \u001b[0maxis\u001b[0m\u001b[0;34m=\u001b[0m\u001b[0;36m1\u001b[0m\u001b[0;34m)\u001b[0m\u001b[0;34m\u001b[0m\u001b[0m\n\u001b[0m\u001b[1;32m    154\u001b[0m         \u001b[0;32melse\u001b[0m\u001b[0;34m:\u001b[0m\u001b[0;34m\u001b[0m\u001b[0m\n\u001b[1;32m    155\u001b[0m             \u001b[0my_pred\u001b[0m \u001b[0;34m=\u001b[0m \u001b[0mnp\u001b[0m\u001b[0;34m.\u001b[0m\u001b[0mempty\u001b[0m\u001b[0;34m(\u001b[0m\u001b[0;34m(\u001b[0m\u001b[0mX\u001b[0m\u001b[0;34m.\u001b[0m\u001b[0mshape\u001b[0m\u001b[0;34m[\u001b[0m\u001b[0;36m0\u001b[0m\u001b[0;34m]\u001b[0m\u001b[0;34m,\u001b[0m \u001b[0m_y\u001b[0m\u001b[0;34m.\u001b[0m\u001b[0mshape\u001b[0m\u001b[0;34m[\u001b[0m\u001b[0;36m1\u001b[0m\u001b[0;34m]\u001b[0m\u001b[0;34m)\u001b[0m\u001b[0;34m,\u001b[0m \u001b[0mdtype\u001b[0m\u001b[0;34m=\u001b[0m\u001b[0mnp\u001b[0m\u001b[0;34m.\u001b[0m\u001b[0mfloat64\u001b[0m\u001b[0;34m)\u001b[0m\u001b[0;34m\u001b[0m\u001b[0m\n",
      "\u001b[0;32m/home/ramon/anaconda2/lib/python2.7/site-packages/numpy/core/fromnumeric.pyc\u001b[0m in \u001b[0;36mmean\u001b[0;34m(a, axis, dtype, out, keepdims)\u001b[0m\n\u001b[1;32m   2940\u001b[0m \u001b[0;34m\u001b[0m\u001b[0m\n\u001b[1;32m   2941\u001b[0m     return _methods._mean(a, axis=axis, dtype=dtype,\n\u001b[0;32m-> 2942\u001b[0;31m                             out=out, **kwargs)\n\u001b[0m\u001b[1;32m   2943\u001b[0m \u001b[0;34m\u001b[0m\u001b[0m\n\u001b[1;32m   2944\u001b[0m \u001b[0;34m\u001b[0m\u001b[0m\n",
      "\u001b[0;32m/home/ramon/anaconda2/lib/python2.7/site-packages/numpy/core/_methods.pyc\u001b[0m in \u001b[0;36m_mean\u001b[0;34m(a, axis, dtype, out, keepdims)\u001b[0m\n\u001b[1;32m     63\u001b[0m         \u001b[0mdtype\u001b[0m \u001b[0;34m=\u001b[0m \u001b[0mmu\u001b[0m\u001b[0;34m.\u001b[0m\u001b[0mdtype\u001b[0m\u001b[0;34m(\u001b[0m\u001b[0;34m'f8'\u001b[0m\u001b[0;34m)\u001b[0m\u001b[0;34m\u001b[0m\u001b[0m\n\u001b[1;32m     64\u001b[0m \u001b[0;34m\u001b[0m\u001b[0m\n\u001b[0;32m---> 65\u001b[0;31m     \u001b[0mret\u001b[0m \u001b[0;34m=\u001b[0m \u001b[0mumr_sum\u001b[0m\u001b[0;34m(\u001b[0m\u001b[0marr\u001b[0m\u001b[0;34m,\u001b[0m \u001b[0maxis\u001b[0m\u001b[0;34m,\u001b[0m \u001b[0mdtype\u001b[0m\u001b[0;34m,\u001b[0m \u001b[0mout\u001b[0m\u001b[0;34m,\u001b[0m \u001b[0mkeepdims\u001b[0m\u001b[0;34m)\u001b[0m\u001b[0;34m\u001b[0m\u001b[0m\n\u001b[0m\u001b[1;32m     66\u001b[0m     \u001b[0;32mif\u001b[0m \u001b[0misinstance\u001b[0m\u001b[0;34m(\u001b[0m\u001b[0mret\u001b[0m\u001b[0;34m,\u001b[0m \u001b[0mmu\u001b[0m\u001b[0;34m.\u001b[0m\u001b[0mndarray\u001b[0m\u001b[0;34m)\u001b[0m\u001b[0;34m:\u001b[0m\u001b[0;34m\u001b[0m\u001b[0m\n\u001b[1;32m     67\u001b[0m         ret = um.true_divide(\n",
      "\u001b[0;31mTypeError\u001b[0m: cannot perform reduce with flexible type"
     ]
    }
   ],
   "source": [
    "a = 0\n",
    "\n",
    "while (a < 10):\n",
    "    load_data()\n",
    "    \n",
    "    estimator = KNeighborsRegressor(n_jobs = -1)\n",
    "    estimator.fit(X_train, y_train)\n",
    "    y_test_predict = estimator.predict(X_test)\n",
    "\n",
    "    err_vec = []\n",
    "\n",
    "    i = 0\n",
    "    while (i < len(y_test_predict)):\n",
    "\n",
    "        a1 = float(y_test_predict[i][0])\n",
    "        b1 = float(y_test[i][0])\n",
    "\n",
    "        a2 = float(y_test_predict[i][1])\n",
    "        b2 = float(y_test[i][1])\n",
    "\n",
    "        a3 = float(y_test_predict[i][2])\n",
    "        b3 = float(y_test[i][2])\n",
    "\n",
    "        err_vec.append((np.sum([abs(a1-b1), abs(a2-b2), abs(a3-b3)]))/3)\n",
    "\n",
    "        i += 1\n",
    "\n",
    "    print(np.sum(err_vec)/len(err_vec))\n",
    "    \n",
    "    a += 1"
   ]
  },
  {
   "cell_type": "code",
   "execution_count": 13,
   "metadata": {
    "collapsed": false,
    "scrolled": true
   },
   "outputs": [
    {
     "name": "stdout",
     "output_type": "stream",
     "text": [
      "0.177974793225\n",
      "0.179970615812\n",
      "0.17975346346\n",
      "0.17768044031\n",
      "0.178879615257\n",
      "0.179191142003\n",
      "0.179043333336\n",
      "0.178793389696\n",
      "0.177799091104\n",
      "0.180182906794\n"
     ]
    }
   ],
   "source": [
    "a = 0\n",
    "\n",
    "while (a < 10):\n",
    "    load_data()\n",
    "    \n",
    "    estimator = DecisionTreeRegressor()\n",
    "    estimator.fit(X_train, y_train)\n",
    "    y_test_predict = estimator.predict(X_test)\n",
    "\n",
    "    err_vec = []\n",
    "\n",
    "    i = 0\n",
    "    while (i < len(y_test_predict)):\n",
    "\n",
    "        a1 = float(y_test_predict[i][0])\n",
    "        b1 = float(y_test[i][0])\n",
    "\n",
    "        a2 = float(y_test_predict[i][1])\n",
    "        b2 = float(y_test[i][1])\n",
    "\n",
    "        a3 = float(y_test_predict[i][2])\n",
    "        b3 = float(y_test[i][2])\n",
    "\n",
    "        err_vec.append((np.sum([abs(a1-b1), abs(a2-b2), abs(a3-b3)]))/3)\n",
    "\n",
    "        i += 1\n",
    "\n",
    "    print(np.sum(err_vec)/len(err_vec))\n",
    "    \n",
    "    a += 1"
   ]
  },
  {
   "cell_type": "code",
   "execution_count": 14,
   "metadata": {
    "collapsed": false
   },
   "outputs": [
    {
     "name": "stdout",
     "output_type": "stream",
     "text": [
      "0.13894313139\n",
      "0.139310106441\n",
      "0.140761452948\n",
      "0.138966799189\n",
      "0.138601699465\n",
      "0.13955362771\n",
      "0.139692957399\n",
      "0.140911831255\n",
      "0.140158907463\n",
      "0.137851158519\n"
     ]
    }
   ],
   "source": [
    "a = 0\n",
    "\n",
    "while (a < 10):\n",
    "    load_data()\n",
    "    \n",
    "    estimator = RandomForestRegressor(n_jobs = -1)\n",
    "    estimator.fit(X_train, y_train)\n",
    "    y_test_predict = estimator.predict(X_test)\n",
    "\n",
    "    err_vec = []\n",
    "\n",
    "    i = 0\n",
    "    while (i < len(y_test_predict)):\n",
    "\n",
    "        a1 = float(y_test_predict[i][0])\n",
    "        b1 = float(y_test[i][0])\n",
    "\n",
    "        a2 = float(y_test_predict[i][1])\n",
    "        b2 = float(y_test[i][1])\n",
    "\n",
    "        a3 = float(y_test_predict[i][2])\n",
    "        b3 = float(y_test[i][2])\n",
    "\n",
    "        err_vec.append((np.sum([abs(a1-b1), abs(a2-b2), abs(a3-b3)]))/3)\n",
    "\n",
    "        i += 1\n",
    "\n",
    "    print(np.sum(err_vec)/len(err_vec))\n",
    "    \n",
    "    a += 1"
   ]
  },
  {
   "cell_type": "code",
   "execution_count": null,
   "metadata": {
    "collapsed": false
   },
   "outputs": [
    {
     "name": "stdout",
     "output_type": "stream",
     "text": [
      "0.133359769682\n",
      "0.135195249595\n",
      "0.136594015828\n"
     ]
    }
   ],
   "source": [
    "a = 0\n",
    "\n",
    "while (a < 10):\n",
    "    load_data()\n",
    "    \n",
    "    estimator = RandomForestRegressor(n_estimators=25, n_jobs = -1)\n",
    "    estimator.fit(X_train, y_train)\n",
    "    y_test_predict = estimator.predict(X_test)\n",
    "\n",
    "    err_vec = []\n",
    "\n",
    "    i = 0\n",
    "    while (i < len(y_test_predict)):\n",
    "\n",
    "        a1 = float(y_test_predict[i][0])\n",
    "        b1 = float(y_test[i][0])\n",
    "\n",
    "        a2 = float(y_test_predict[i][1])\n",
    "        b2 = float(y_test[i][1])\n",
    "\n",
    "        a3 = float(y_test_predict[i][2])\n",
    "        b3 = float(y_test[i][2])\n",
    "\n",
    "        err_vec.append((np.sum([abs(a1-b1), abs(a2-b2), abs(a3-b3)]))/3)\n",
    "\n",
    "        i += 1\n",
    "\n",
    "    print(np.sum(err_vec)/len(err_vec))\n",
    "    \n",
    "    a += 1"
   ]
  }
 ],
 "metadata": {
  "kernelspec": {
   "display_name": "Python 2",
   "language": "python",
   "name": "python2"
  },
  "language_info": {
   "codemirror_mode": {
    "name": "ipython",
    "version": 2
   },
   "file_extension": ".py",
   "mimetype": "text/x-python",
   "name": "python",
   "nbconvert_exporter": "python",
   "pygments_lexer": "ipython2",
   "version": "2.7.13"
  }
 },
 "nbformat": 4,
 "nbformat_minor": 2
}
